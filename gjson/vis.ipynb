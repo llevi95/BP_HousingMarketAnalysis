{
 "cells": [
  {
   "cell_type": "code",
   "execution_count": 1,
   "id": "4b652b1a",
   "metadata": {},
   "outputs": [],
   "source": [
    "import json\n",
    "import numpy as np\n",
    "import pandas as pd\n",
    "import plotly.express as px"
   ]
  },
  {
   "cell_type": "code",
   "execution_count": 2,
   "id": "726cdc9b",
   "metadata": {},
   "outputs": [],
   "source": [
    "import plotly.io as pio\n",
    "pio.renderers.default = 'browser'"
   ]
  },
  {
   "cell_type": "code",
   "execution_count": 3,
   "id": "5ad90bff",
   "metadata": {},
   "outputs": [],
   "source": [
    "bp_ker = json.load(open(\"mergedmap.geojson\", 'r'))"
   ]
  },
  {
   "cell_type": "code",
   "execution_count": 4,
   "id": "f58b9811",
   "metadata": {},
   "outputs": [],
   "source": [
    "ker_id = {}\n",
    "for feature in bp_ker['features']:\n",
    "    feature['id'] = feature['properties']['ksh']\n",
    "    feature['id'] = pd.to_numeric(feature['id'], errors='ignore')\n",
    "    ker_id[feature['properties']['name']] = feature['id']"
   ]
  },
  {
   "cell_type": "code",
   "execution_count": 5,
   "id": "67d589f9",
   "metadata": {},
   "outputs": [],
   "source": [
    "df = pd.read_csv('cln3.csv', sep=';')"
   ]
  },
  {
   "cell_type": "code",
   "execution_count": 6,
   "id": "f89c3751",
   "metadata": {},
   "outputs": [
    {
     "data": {
      "text/html": [
       "<div>\n",
       "<style scoped>\n",
       "    .dataframe tbody tr th:only-of-type {\n",
       "        vertical-align: middle;\n",
       "    }\n",
       "\n",
       "    .dataframe tbody tr th {\n",
       "        vertical-align: top;\n",
       "    }\n",
       "\n",
       "    .dataframe thead th {\n",
       "        text-align: right;\n",
       "    }\n",
       "</style>\n",
       "<table border=\"1\" class=\"dataframe\">\n",
       "  <thead>\n",
       "    <tr style=\"text-align: right;\">\n",
       "      <th></th>\n",
       "      <th>district</th>\n",
       "      <th>size (m²)</th>\n",
       "      <th>price (M in HUF)</th>\n",
       "      <th>balcony (m²)</th>\n",
       "      <th>address</th>\n",
       "      <th>room(s)</th>\n",
       "      <th>half_room(s)</th>\n",
       "    </tr>\n",
       "  </thead>\n",
       "  <tbody>\n",
       "    <tr>\n",
       "      <th>0</th>\n",
       "      <td>13</td>\n",
       "      <td>48</td>\n",
       "      <td>59.0</td>\n",
       "      <td>NaN</td>\n",
       "      <td>Kassák Lajos utca</td>\n",
       "      <td>2</td>\n",
       "      <td>NaN</td>\n",
       "    </tr>\n",
       "    <tr>\n",
       "      <th>1</th>\n",
       "      <td>13</td>\n",
       "      <td>46</td>\n",
       "      <td>54.9</td>\n",
       "      <td>12.0</td>\n",
       "      <td>Csata utca</td>\n",
       "      <td>2</td>\n",
       "      <td>NaN</td>\n",
       "    </tr>\n",
       "    <tr>\n",
       "      <th>2</th>\n",
       "      <td>7</td>\n",
       "      <td>63</td>\n",
       "      <td>39.9</td>\n",
       "      <td>NaN</td>\n",
       "      <td>Rottenbiller utca</td>\n",
       "      <td>2</td>\n",
       "      <td>NaN</td>\n",
       "    </tr>\n",
       "    <tr>\n",
       "      <th>3</th>\n",
       "      <td>7</td>\n",
       "      <td>50</td>\n",
       "      <td>39.9</td>\n",
       "      <td>NaN</td>\n",
       "      <td>Almássy tér</td>\n",
       "      <td>2</td>\n",
       "      <td>NaN</td>\n",
       "    </tr>\n",
       "    <tr>\n",
       "      <th>4</th>\n",
       "      <td>7</td>\n",
       "      <td>50</td>\n",
       "      <td>39.9</td>\n",
       "      <td>NaN</td>\n",
       "      <td>Almássy tér</td>\n",
       "      <td>2</td>\n",
       "      <td>NaN</td>\n",
       "    </tr>\n",
       "  </tbody>\n",
       "</table>\n",
       "</div>"
      ],
      "text/plain": [
       "   district  size (m²)  price (M in HUF) balcony (m²)            address  \\\n",
       "0        13         48              59.0          NaN  Kassák Lajos utca   \n",
       "1        13         46              54.9         12.0         Csata utca   \n",
       "2         7         63              39.9          NaN  Rottenbiller utca   \n",
       "3         7         50              39.9          NaN        Almássy tér   \n",
       "4         7         50              39.9          NaN        Almássy tér   \n",
       "\n",
       "   room(s)  half_room(s)  \n",
       "0        2           NaN  \n",
       "1        2           NaN  \n",
       "2        2           NaN  \n",
       "3        2           NaN  \n",
       "4        2           NaN  "
      ]
     },
     "execution_count": 6,
     "metadata": {},
     "output_type": "execute_result"
    }
   ],
   "source": [
    "df.drop('Unnamed: 0', inplace=True, axis=1)\n",
    "df.head()"
   ]
  },
  {
   "cell_type": "code",
   "execution_count": 7,
   "id": "da07c7f1",
   "metadata": {},
   "outputs": [
    {
     "data": {
      "text/plain": [
       "dict_keys(['type', 'properties', 'geometry', 'id'])"
      ]
     },
     "execution_count": 7,
     "metadata": {},
     "output_type": "execute_result"
    }
   ],
   "source": [
    "bp_ker['features'][1].keys()"
   ]
  },
  {
   "cell_type": "code",
   "execution_count": 8,
   "id": "bb74b5fd",
   "metadata": {},
   "outputs": [
    {
     "data": {
      "text/plain": [
       "{'name': 'Budapest I. kerület',\n",
       " 'type': 'district',\n",
       " 'type:hu': 'járás',\n",
       " 'ksh': '001',\n",
       " 'osm_id': '221984',\n",
       " 'parent': {'name': 'Budapest',\n",
       "  'type': 'county',\n",
       "  'type:hu': 'megye',\n",
       "  'ksh': '01',\n",
       "  'osm_id': '1244004'}}"
      ]
     },
     "execution_count": 8,
     "metadata": {},
     "output_type": "execute_result"
    }
   ],
   "source": [
    "bp_ker['features'][0]['properties']"
   ]
  },
  {
   "cell_type": "code",
   "execution_count": 9,
   "id": "1953c8f6",
   "metadata": {},
   "outputs": [
    {
     "data": {
      "text/plain": [
       "district              int64\n",
       "size (m²)             int64\n",
       "price (M in HUF)    float64\n",
       "balcony (m²)         object\n",
       "address              object\n",
       "room(s)               int64\n",
       "half_room(s)        float64\n",
       "dtype: object"
      ]
     },
     "execution_count": 9,
     "metadata": {},
     "output_type": "execute_result"
    }
   ],
   "source": [
    "df.dtypes"
   ]
  },
  {
   "cell_type": "code",
   "execution_count": 10,
   "id": "1b2fd8aa",
   "metadata": {},
   "outputs": [
    {
     "data": {
      "text/plain": [
       "{'Budapest I. kerület': 1,\n",
       " 'Budapest II. kerület': 2,\n",
       " 'Budapest III. kerület': 3,\n",
       " 'Budapest IV. kerület': 4,\n",
       " 'Budapest V. kerület': 5,\n",
       " 'Budapest VI. kerület': 6,\n",
       " 'Budapest VII. kerület': 7,\n",
       " 'Budapest VIII. kerület': 8,\n",
       " 'Budapest IX. kerület': 9,\n",
       " 'Budapest X. kerület': 10,\n",
       " 'Budapest XI. kerület': 11,\n",
       " 'Budapest XII. kerület': 12,\n",
       " 'Budapest XIII. kerület': 13,\n",
       " 'Budapest XIV. kerület': 14,\n",
       " 'Budapest XV. kerület': 15,\n",
       " 'Budapest XVI. kerület': 16,\n",
       " 'Budapest XVII. kerület': 17,\n",
       " 'Budapest XVIII. kerület': 18,\n",
       " 'Budapest XIX. kerület': 19,\n",
       " 'Budapest XX. kerület': 20,\n",
       " 'Budapest XXI. kerület': 21,\n",
       " 'Budapest XXII. kerület': 22,\n",
       " 'Budapest XXIII. kerület': 23}"
      ]
     },
     "execution_count": 10,
     "metadata": {},
     "output_type": "execute_result"
    }
   ],
   "source": [
    "ker_id"
   ]
  },
  {
   "cell_type": "code",
   "execution_count": 12,
   "id": "ccdd8151",
   "metadata": {},
   "outputs": [],
   "source": [
    "df['ps'] = np.log10(df['price (M in HUF)'])"
   ]
  },
  {
   "cell_type": "code",
   "execution_count": 14,
   "id": "eda8c5c9",
   "metadata": {},
   "outputs": [],
   "source": [
    "fig = px.choropleth(df, locations='district',\n",
    "                    geojson=bp_ker,\n",
    "                    color='ps',\n",
    "                    scope='europe',\n",
    "                    hover_name = 'district',\n",
    "                    hover_data=['price (M in HUF)'])\n",
    "fig.update_geos(fitbounds='locations', visible=False)\n",
    "fig.show()"
   ]
  },
  {
   "cell_type": "code",
   "execution_count": null,
   "id": "671c8df6",
   "metadata": {},
   "outputs": [],
   "source": []
  },
  {
   "cell_type": "code",
   "execution_count": null,
   "id": "8dcc62e3",
   "metadata": {},
   "outputs": [],
   "source": []
  }
 ],
 "metadata": {
  "kernelspec": {
   "display_name": "Python 3 (ipykernel)",
   "language": "python",
   "name": "python3"
  },
  "language_info": {
   "codemirror_mode": {
    "name": "ipython",
    "version": 3
   },
   "file_extension": ".py",
   "mimetype": "text/x-python",
   "name": "python",
   "nbconvert_exporter": "python",
   "pygments_lexer": "ipython3",
   "version": "3.8.13"
  }
 },
 "nbformat": 4,
 "nbformat_minor": 5
}
